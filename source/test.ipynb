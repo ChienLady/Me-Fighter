{
 "cells": [
  {
   "cell_type": "code",
   "execution_count": null,
   "metadata": {},
   "outputs": [],
   "source": [
    "import pygame"
   ]
  }
 ],
 "metadata": {
  "kernelspec": {
   "display_name": "Python 3.9.0 ('venv')",
   "language": "python",
   "name": "python3"
  },
  "language_info": {
   "name": "python",
   "version": "3.9.0"
  },
  "orig_nbformat": 4,
  "vscode": {
   "interpreter": {
    "hash": "989b18c85b380cb5d4dc88751aba259d5b2349ae82f143d55ba9fdb5c3f8c88a"
   }
  }
 },
 "nbformat": 4,
 "nbformat_minor": 2
}
